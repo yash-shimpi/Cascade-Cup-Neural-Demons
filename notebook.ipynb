{
  "nbformat": 4,
  "nbformat_minor": 0,
  "metadata": {
    "colab": {
      "name": "Neural Demons notebook.ipynb",
      "provenance": [],
      "collapsed_sections": []
    },
    "kernelspec": {
      "name": "python3",
      "display_name": "Python 3"
    },
    "language_info": {
      "name": "python"
    }
  },
  "cells": [
    {
      "cell_type": "code",
      "execution_count": null,
      "metadata": {
        "id": "8LtuIAgNXbb1"
      },
      "outputs": [],
      "source": [
        "import pandas as pd\n",
        "import numpy as np\n",
        "import matplotlib.pyplot as plt\n",
        "import seaborn as sns\n",
        "import datetime"
      ]
    },
    {
      "cell_type": "code",
      "source": [
        "df = pd.read_csv('/content/drive/MyDrive/Cascade Cup/train.csv')\n",
        "test_df = pd.read_csv('/content/drive/MyDrive/Cascade Cup/test.csv')\n",
        "df.head()"
      ],
      "metadata": {
        "colab": {
          "base_uri": "https://localhost:8080/",
          "height": 356
        },
        "id": "X0pyzdAqXjzE",
        "outputId": "28c09a24-e07f-4956-a2aa-654038774e15"
      },
      "execution_count": null,
      "outputs": [
        {
          "output_type": "execute_result",
          "data": {
            "text/html": [
              "\n",
              "  <div id=\"df-05958279-2360-4c1e-93f3-53226beb3ea3\">\n",
              "    <div class=\"colab-df-container\">\n",
              "      <div>\n",
              "<style scoped>\n",
              "    .dataframe tbody tr th:only-of-type {\n",
              "        vertical-align: middle;\n",
              "    }\n",
              "\n",
              "    .dataframe tbody tr th {\n",
              "        vertical-align: top;\n",
              "    }\n",
              "\n",
              "    .dataframe thead th {\n",
              "        text-align: right;\n",
              "    }\n",
              "</style>\n",
              "<table border=\"1\" class=\"dataframe\">\n",
              "  <thead>\n",
              "    <tr style=\"text-align: right;\">\n",
              "      <th></th>\n",
              "      <th>order_time</th>\n",
              "      <th>order_id</th>\n",
              "      <th>order_date</th>\n",
              "      <th>allot_time</th>\n",
              "      <th>accept_time</th>\n",
              "      <th>pickup_time</th>\n",
              "      <th>delivered_time</th>\n",
              "      <th>rider_id</th>\n",
              "      <th>first_mile_distance</th>\n",
              "      <th>last_mile_distance</th>\n",
              "      <th>alloted_orders</th>\n",
              "      <th>delivered_orders</th>\n",
              "      <th>cancelled</th>\n",
              "      <th>undelivered_orders</th>\n",
              "      <th>lifetime_order_count</th>\n",
              "      <th>reassignment_method</th>\n",
              "      <th>reassignment_reason</th>\n",
              "      <th>reassigned_order</th>\n",
              "      <th>session_time</th>\n",
              "      <th>cancelled_time</th>\n",
              "    </tr>\n",
              "  </thead>\n",
              "  <tbody>\n",
              "    <tr>\n",
              "      <th>0</th>\n",
              "      <td>2021-01-26 02:21:35</td>\n",
              "      <td>556753</td>\n",
              "      <td>2021-01-26 00:00:00</td>\n",
              "      <td>2021-01-26 02:21:59</td>\n",
              "      <td>2021-01-26 02:22:08</td>\n",
              "      <td>2021-01-26 02:32:51</td>\n",
              "      <td>2021-01-26 02:49:47</td>\n",
              "      <td>11696</td>\n",
              "      <td>1.5666</td>\n",
              "      <td>2.65</td>\n",
              "      <td>46.0</td>\n",
              "      <td>46.0</td>\n",
              "      <td>0</td>\n",
              "      <td>0.0</td>\n",
              "      <td>621.0</td>\n",
              "      <td>NaN</td>\n",
              "      <td>NaN</td>\n",
              "      <td>NaN</td>\n",
              "      <td>NaN</td>\n",
              "      <td>NaN</td>\n",
              "    </tr>\n",
              "    <tr>\n",
              "      <th>1</th>\n",
              "      <td>2021-01-26 02:33:16</td>\n",
              "      <td>556754</td>\n",
              "      <td>2021-01-26 00:00:00</td>\n",
              "      <td>2021-01-26 02:33:57</td>\n",
              "      <td>2021-01-26 02:34:45</td>\n",
              "      <td>2021-01-26 02:50:25</td>\n",
              "      <td>2021-01-26 03:11:15</td>\n",
              "      <td>18117</td>\n",
              "      <td>2.5207</td>\n",
              "      <td>2.76</td>\n",
              "      <td>8.0</td>\n",
              "      <td>8.0</td>\n",
              "      <td>0</td>\n",
              "      <td>0.0</td>\n",
              "      <td>105.0</td>\n",
              "      <td>NaN</td>\n",
              "      <td>NaN</td>\n",
              "      <td>NaN</td>\n",
              "      <td>3.266667</td>\n",
              "      <td>NaN</td>\n",
              "    </tr>\n",
              "    <tr>\n",
              "      <th>2</th>\n",
              "      <td>2021-01-26 02:39:49</td>\n",
              "      <td>556755</td>\n",
              "      <td>2021-01-26 00:00:00</td>\n",
              "      <td>2021-01-26 02:39:57</td>\n",
              "      <td>2021-01-26 02:40:13</td>\n",
              "      <td>2021-01-26 02:56:00</td>\n",
              "      <td>2021-01-26 03:12:46</td>\n",
              "      <td>18623</td>\n",
              "      <td>2.2074</td>\n",
              "      <td>4.80</td>\n",
              "      <td>1.0</td>\n",
              "      <td>1.0</td>\n",
              "      <td>0</td>\n",
              "      <td>0.0</td>\n",
              "      <td>66.0</td>\n",
              "      <td>NaN</td>\n",
              "      <td>NaN</td>\n",
              "      <td>NaN</td>\n",
              "      <td>9.816667</td>\n",
              "      <td>NaN</td>\n",
              "    </tr>\n",
              "    <tr>\n",
              "      <th>3</th>\n",
              "      <td>2021-01-26 02:47:53</td>\n",
              "      <td>556756</td>\n",
              "      <td>2021-01-26 00:00:00</td>\n",
              "      <td>2021-01-26 02:48:25</td>\n",
              "      <td>2021-01-26 02:49:06</td>\n",
              "      <td>2021-01-26 03:21:51</td>\n",
              "      <td>2021-01-26 03:41:05</td>\n",
              "      <td>15945</td>\n",
              "      <td>2.1894</td>\n",
              "      <td>6.38</td>\n",
              "      <td>1.0</td>\n",
              "      <td>1.0</td>\n",
              "      <td>0</td>\n",
              "      <td>0.0</td>\n",
              "      <td>127.0</td>\n",
              "      <td>NaN</td>\n",
              "      <td>NaN</td>\n",
              "      <td>NaN</td>\n",
              "      <td>17.533333</td>\n",
              "      <td>NaN</td>\n",
              "    </tr>\n",
              "    <tr>\n",
              "      <th>4</th>\n",
              "      <td>2021-01-26 03:06:30</td>\n",
              "      <td>556757</td>\n",
              "      <td>2021-01-26 00:00:00</td>\n",
              "      <td>2021-01-26 03:07:21</td>\n",
              "      <td>2021-01-26 03:07:57</td>\n",
              "      <td>2021-01-26 03:31:38</td>\n",
              "      <td>2021-01-26 04:00:15</td>\n",
              "      <td>17589</td>\n",
              "      <td>2.7870</td>\n",
              "      <td>4.01</td>\n",
              "      <td>34.0</td>\n",
              "      <td>34.0</td>\n",
              "      <td>0</td>\n",
              "      <td>0.0</td>\n",
              "      <td>84.0</td>\n",
              "      <td>NaN</td>\n",
              "      <td>NaN</td>\n",
              "      <td>NaN</td>\n",
              "      <td>1.350000</td>\n",
              "      <td>NaN</td>\n",
              "    </tr>\n",
              "  </tbody>\n",
              "</table>\n",
              "</div>\n",
              "      <button class=\"colab-df-convert\" onclick=\"convertToInteractive('df-05958279-2360-4c1e-93f3-53226beb3ea3')\"\n",
              "              title=\"Convert this dataframe to an interactive table.\"\n",
              "              style=\"display:none;\">\n",
              "        \n",
              "  <svg xmlns=\"http://www.w3.org/2000/svg\" height=\"24px\"viewBox=\"0 0 24 24\"\n",
              "       width=\"24px\">\n",
              "    <path d=\"M0 0h24v24H0V0z\" fill=\"none\"/>\n",
              "    <path d=\"M18.56 5.44l.94 2.06.94-2.06 2.06-.94-2.06-.94-.94-2.06-.94 2.06-2.06.94zm-11 1L8.5 8.5l.94-2.06 2.06-.94-2.06-.94L8.5 2.5l-.94 2.06-2.06.94zm10 10l.94 2.06.94-2.06 2.06-.94-2.06-.94-.94-2.06-.94 2.06-2.06.94z\"/><path d=\"M17.41 7.96l-1.37-1.37c-.4-.4-.92-.59-1.43-.59-.52 0-1.04.2-1.43.59L10.3 9.45l-7.72 7.72c-.78.78-.78 2.05 0 2.83L4 21.41c.39.39.9.59 1.41.59.51 0 1.02-.2 1.41-.59l7.78-7.78 2.81-2.81c.8-.78.8-2.07 0-2.86zM5.41 20L4 18.59l7.72-7.72 1.47 1.35L5.41 20z\"/>\n",
              "  </svg>\n",
              "      </button>\n",
              "      \n",
              "  <style>\n",
              "    .colab-df-container {\n",
              "      display:flex;\n",
              "      flex-wrap:wrap;\n",
              "      gap: 12px;\n",
              "    }\n",
              "\n",
              "    .colab-df-convert {\n",
              "      background-color: #E8F0FE;\n",
              "      border: none;\n",
              "      border-radius: 50%;\n",
              "      cursor: pointer;\n",
              "      display: none;\n",
              "      fill: #1967D2;\n",
              "      height: 32px;\n",
              "      padding: 0 0 0 0;\n",
              "      width: 32px;\n",
              "    }\n",
              "\n",
              "    .colab-df-convert:hover {\n",
              "      background-color: #E2EBFA;\n",
              "      box-shadow: 0px 1px 2px rgba(60, 64, 67, 0.3), 0px 1px 3px 1px rgba(60, 64, 67, 0.15);\n",
              "      fill: #174EA6;\n",
              "    }\n",
              "\n",
              "    [theme=dark] .colab-df-convert {\n",
              "      background-color: #3B4455;\n",
              "      fill: #D2E3FC;\n",
              "    }\n",
              "\n",
              "    [theme=dark] .colab-df-convert:hover {\n",
              "      background-color: #434B5C;\n",
              "      box-shadow: 0px 1px 3px 1px rgba(0, 0, 0, 0.15);\n",
              "      filter: drop-shadow(0px 1px 2px rgba(0, 0, 0, 0.3));\n",
              "      fill: #FFFFFF;\n",
              "    }\n",
              "  </style>\n",
              "\n",
              "      <script>\n",
              "        const buttonEl =\n",
              "          document.querySelector('#df-05958279-2360-4c1e-93f3-53226beb3ea3 button.colab-df-convert');\n",
              "        buttonEl.style.display =\n",
              "          google.colab.kernel.accessAllowed ? 'block' : 'none';\n",
              "\n",
              "        async function convertToInteractive(key) {\n",
              "          const element = document.querySelector('#df-05958279-2360-4c1e-93f3-53226beb3ea3');\n",
              "          const dataTable =\n",
              "            await google.colab.kernel.invokeFunction('convertToInteractive',\n",
              "                                                     [key], {});\n",
              "          if (!dataTable) return;\n",
              "\n",
              "          const docLinkHtml = 'Like what you see? Visit the ' +\n",
              "            '<a target=\"_blank\" href=https://colab.research.google.com/notebooks/data_table.ipynb>data table notebook</a>'\n",
              "            + ' to learn more about interactive tables.';\n",
              "          element.innerHTML = '';\n",
              "          dataTable['output_type'] = 'display_data';\n",
              "          await google.colab.output.renderOutput(dataTable, element);\n",
              "          const docLink = document.createElement('div');\n",
              "          docLink.innerHTML = docLinkHtml;\n",
              "          element.appendChild(docLink);\n",
              "        }\n",
              "      </script>\n",
              "    </div>\n",
              "  </div>\n",
              "  "
            ],
            "text/plain": [
              "            order_time  order_id  ... session_time cancelled_time\n",
              "0  2021-01-26 02:21:35    556753  ...          NaN            NaN\n",
              "1  2021-01-26 02:33:16    556754  ...     3.266667            NaN\n",
              "2  2021-01-26 02:39:49    556755  ...     9.816667            NaN\n",
              "3  2021-01-26 02:47:53    556756  ...    17.533333            NaN\n",
              "4  2021-01-26 03:06:30    556757  ...     1.350000            NaN\n",
              "\n",
              "[5 rows x 20 columns]"
            ]
          },
          "metadata": {},
          "execution_count": 4
        }
      ]
    },
    {
      "cell_type": "code",
      "source": [
        "drop_col = list(set(df.columns) - set(test_df.columns))\n",
        "drop_col.remove('cancelled')\n",
        "print(drop_col)\n",
        "# columns which are in train but not test data\n",
        "df.drop(columns=drop_col, inplace=True)"
      ],
      "metadata": {
        "colab": {
          "base_uri": "https://localhost:8080/"
        },
        "id": "JTOwRrJngIX7",
        "outputId": "100b885a-2fe1-4521-c4d7-d70e93d5fd09"
      },
      "execution_count": null,
      "outputs": [
        {
          "output_type": "stream",
          "name": "stdout",
          "text": [
            "['pickup_time', 'cancelled_time', 'delivered_time']\n"
          ]
        }
      ]
    },
    {
      "cell_type": "code",
      "source": [
        "drop_col = ['reassignment_method', 'reassignment_reason', 'reassigned_order', 'order_id']\n",
        "df.drop(columns=drop_col, inplace = True)\n",
        "test_df.drop(columns=drop_col, inplace=True)"
      ],
      "metadata": {
        "id": "wdk3fHkqXm4D"
      },
      "execution_count": null,
      "outputs": []
    },
    {
      "cell_type": "code",
      "source": [
        "date_cols = ['order_time', 'order_date', 'allot_time', 'accept_time']\n",
        "for col in date_cols:\n",
        "  df[col] = pd.to_datetime(df[col])\n",
        "  test_df[col] = pd.to_datetime(test_df[col])"
      ],
      "metadata": {
        "id": "AJWU7DhSX03C"
      },
      "execution_count": null,
      "outputs": []
    },
    {
      "cell_type": "code",
      "source": [
        "for col in date_cols:\n",
        "  print(df[col].dt.year.unique())\n",
        "# year needs to be removed only 2021"
      ],
      "metadata": {
        "colab": {
          "base_uri": "https://localhost:8080/"
        },
        "id": "Vwrm66IkX4_h",
        "outputId": "26201758-f211-4978-9f0c-d7895e14dcd1"
      },
      "execution_count": null,
      "outputs": [
        {
          "output_type": "stream",
          "name": "stdout",
          "text": [
            "[2021]\n",
            "[2021]\n",
            "[2021]\n",
            "[2021.   nan]\n"
          ]
        }
      ]
    },
    {
      "cell_type": "code",
      "source": [
        "for col in date_cols:\n",
        "  print(df[col].dt.month.unique())\n",
        "# only two months"
      ],
      "metadata": {
        "colab": {
          "base_uri": "https://localhost:8080/"
        },
        "id": "d2ecVJ_UX7-Y",
        "outputId": "7ef63264-7075-403d-975a-17f673ceea2f"
      },
      "execution_count": null,
      "outputs": [
        {
          "output_type": "stream",
          "name": "stdout",
          "text": [
            "[1 2]\n",
            "[1 2]\n",
            "[1 2]\n",
            "[ 1. nan  2.]\n"
          ]
        }
      ]
    },
    {
      "cell_type": "code",
      "source": [
        "for col in date_cols:\n",
        "  print(df[col].dt.day.unique())"
      ],
      "metadata": {
        "colab": {
          "base_uri": "https://localhost:8080/"
        },
        "id": "NhDBJDEDY-iP",
        "outputId": "562ffc80-905d-4f41-a4bb-cce5a290c893"
      },
      "execution_count": null,
      "outputs": [
        {
          "output_type": "stream",
          "name": "stdout",
          "text": [
            "[26 27 28 29 30 31  1  2  3  4  5  6]\n",
            "[26 27 28 29 30 31  1  2  3  4  5  6]\n",
            "[26 27 28 29 30 31  1  2  3  4  5  6]\n",
            "[26. nan 27. 28. 29. 30. 31.  1.  2.  3.  4.  5.  6.]\n"
          ]
        }
      ]
    },
    {
      "cell_type": "code",
      "source": [
        "print((df['order_date'].dt.date == df['order_time'].dt.date).all())\n",
        "print((df['order_date'].dt.time == datetime.time(0,0,0)).all())\n",
        "# order date has time as 00:00:00 for all cols, it needs to be removed\n",
        "df.drop(columns='order_date', inplace=True)\n",
        "test_df.drop(columns='order_date', inplace=True)"
      ],
      "metadata": {
        "colab": {
          "base_uri": "https://localhost:8080/"
        },
        "id": "6WO3U_TvZSQI",
        "outputId": "e6eeebeb-0478-4332-a840-c190c7738db2"
      },
      "execution_count": null,
      "outputs": [
        {
          "output_type": "stream",
          "name": "stdout",
          "text": [
            "True\n",
            "True\n"
          ]
        }
      ]
    },
    {
      "cell_type": "code",
      "source": [
        "df.cancelled.value_counts()\n",
        "# heavily imbalanced dataset"
      ],
      "metadata": {
        "colab": {
          "base_uri": "https://localhost:8080/"
        },
        "id": "TagQBtREZb_3",
        "outputId": "81378a8f-c974-4ab3-edc2-4c4bc6a6d674"
      },
      "execution_count": null,
      "outputs": [
        {
          "output_type": "execute_result",
          "data": {
            "text/plain": [
              "0    444782\n",
              "1      5218\n",
              "Name: cancelled, dtype: int64"
            ]
          },
          "metadata": {},
          "execution_count": 12
        }
      ]
    },
    {
      "cell_type": "code",
      "source": [
        "df.isna().sum()"
      ],
      "metadata": {
        "colab": {
          "base_uri": "https://localhost:8080/"
        },
        "id": "OG86mUcVbqld",
        "outputId": "4cf30164-a379-4fa5-d858-c7a9949c3092"
      },
      "execution_count": null,
      "outputs": [
        {
          "output_type": "execute_result",
          "data": {
            "text/plain": [
              "order_time                  0\n",
              "allot_time                  0\n",
              "accept_time               157\n",
              "rider_id                    0\n",
              "first_mile_distance         0\n",
              "last_mile_distance          0\n",
              "alloted_orders          16948\n",
              "delivered_orders        17341\n",
              "cancelled                   0\n",
              "undelivered_orders      17341\n",
              "lifetime_order_count       53\n",
              "session_time             3675\n",
              "dtype: int64"
            ]
          },
          "metadata": {},
          "execution_count": 13
        }
      ]
    },
    {
      "cell_type": "code",
      "source": [
        "test_df.isna().sum()"
      ],
      "metadata": {
        "colab": {
          "base_uri": "https://localhost:8080/"
        },
        "id": "zWtH34Oue_Qx",
        "outputId": "ef2e7eff-243f-488d-c7d4-ef2df44386c3"
      },
      "execution_count": null,
      "outputs": [
        {
          "output_type": "execute_result",
          "data": {
            "text/plain": [
              "order_time                 0\n",
              "allot_time                 0\n",
              "accept_time               68\n",
              "rider_id                   0\n",
              "first_mile_distance        0\n",
              "last_mile_distance         0\n",
              "alloted_orders          4773\n",
              "delivered_orders        4884\n",
              "undelivered_orders      4884\n",
              "lifetime_order_count     778\n",
              "session_time            5054\n",
              "dtype: int64"
            ]
          },
          "metadata": {},
          "execution_count": 14
        }
      ]
    },
    {
      "cell_type": "code",
      "source": [
        "df['accept_allot_delta'] = (df['accept_time'] - df['allot_time']).dt.seconds\n",
        "df['allot_order_delta'] = (df['allot_time'] - df['order_time']).dt.seconds\n",
        "\n",
        "test_df['accept_allot_delta'] = (test_df['accept_time'] - test_df['allot_time']).dt.seconds\n",
        "test_df['allot_order_delta'] = (test_df['allot_time'] - test_df['order_time']).dt.seconds\n",
        "\n",
        "df.drop(columns=['accept_time', 'allot_time'], inplace=True)\n",
        "test_df.drop(columns=['accept_time', 'allot_time'], inplace=True)"
      ],
      "metadata": {
        "id": "FoQtTvoogFhM"
      },
      "execution_count": null,
      "outputs": []
    },
    {
      "cell_type": "code",
      "source": [
        "df['weekday'] = df['order_time'].dt.dayofweek.astype('object')\n",
        "test_df['weekday'] = test_df['order_time'].dt.dayofweek.astype('object')"
      ],
      "metadata": {
        "id": "LmAjKfdbikuY"
      },
      "execution_count": null,
      "outputs": []
    },
    {
      "cell_type": "code",
      "source": [
        "df['order_month'] = df['order_time'].dt.month.astype('object')\n",
        "df['order_hour'] = df['order_time'].dt.hour\n",
        "df['order_minute'] = df['order_time'].dt.minute\n",
        "df.drop(columns='order_time', inplace=True)\n",
        "\n",
        "test_df['order_month'] = test_df['order_time'].dt.month.astype('object')\n",
        "test_df['order_hour'] = test_df['order_time'].dt.hour\n",
        "test_df['order_minute'] = test_df['order_time'].dt.minute\n",
        "test_df.drop(columns='order_time', inplace=True)"
      ],
      "metadata": {
        "id": "L2FhE4E-pU8J"
      },
      "execution_count": null,
      "outputs": []
    },
    {
      "cell_type": "code",
      "source": [
        "from sklearn.impute import SimpleImputer\n",
        "imp_cols = ['accept_allot_delta', 'lifetime_order_count', 'session_time']\n",
        "for col in imp_cols:\n",
        "  si = SimpleImputer(strategy='median')\n",
        "  train = np.reshape(np.array(df[col]), newshape=(-1,1))\n",
        "  test = np.reshape(np.array(test_df[col]), newshape=(-1,1))\n",
        "  train = np.squeeze(si.fit_transform(train), -1)\n",
        "  test = np.squeeze(si.transform(test), -1)\n",
        "  df[col] = train\n",
        "  test_df[col] = test"
      ],
      "metadata": {
        "id": "TGRouDCvnjIY"
      },
      "execution_count": null,
      "outputs": []
    },
    {
      "cell_type": "code",
      "source": [
        "imp_cols = ['alloted_orders', 'delivered_orders', 'undelivered_orders']"
      ],
      "metadata": {
        "id": "wmxQE7wmpbMj"
      },
      "execution_count": null,
      "outputs": []
    },
    {
      "cell_type": "code",
      "source": [
        "imp_train_x = np.array(df[~df.isna().any(axis=1)].drop(columns=imp_cols+['rider_id', 'cancelled']), dtype=np.float32)\n",
        "imp_train_y = np.array(df[~df.isna().any(axis=1)][imp_cols], dtype=np.float32)\n",
        "imp_test_x = np.array(df[df.isna().any(axis=1)].drop(columns=imp_cols+['rider_id', 'cancelled']), dtype=np.float32)\n",
        "\n",
        "test_imp = np.array(test_df[test_df.isna().any(axis=1)].drop(columns=imp_cols+['rider_id']), dtype=np.float32)\n",
        "\n",
        "from sklearn.model_selection import train_test_split\n",
        "\n",
        "train_x, test_x, train_y, test_y = train_test_split(imp_train_x, imp_train_y, test_size=0.2, random_state=69)"
      ],
      "metadata": {
        "id": "_F7Mwy8EvgDu"
      },
      "execution_count": null,
      "outputs": []
    },
    {
      "cell_type": "code",
      "source": [
        "from xgboost import XGBRFRegressor\n",
        "for i, col in enumerate(imp_cols):\n",
        "  model = XGBRFRegressor()\n",
        "  print(model.fit(train_x, train_y[:,i]).score(test_x,test_y[:,i]))\n",
        "  imp_test_y = model.predict(imp_test_x)\n",
        "  test_pred = model.predict(test_imp)\n",
        "  idx = df[df.isna().any(axis=1)][imp_cols].index\n",
        "  test_idx = test_df[test_df.isna().any(axis=1)][imp_cols].index\n",
        "  df.loc[idx, col] = imp_test_y\n",
        "  test_df.loc[test_idx, col] = test_pred"
      ],
      "metadata": {
        "colab": {
          "base_uri": "https://localhost:8080/"
        },
        "id": "SfY2TTHd7Rp_",
        "outputId": "69fe7ad8-61aa-402c-ed6c-62f8fb8cb9b4"
      },
      "execution_count": null,
      "outputs": [
        {
          "output_type": "stream",
          "name": "stderr",
          "text": [
            "/usr/local/lib/python3.7/dist-packages/xgboost/core.py:613: UserWarning: Use subset (sliced data) of np.ndarray is not recommended because it will generate extra copies and increase memory consumption\n",
            "  warnings.warn(\"Use subset (sliced data) of np.ndarray is not recommended \" +\n"
          ]
        },
        {
          "output_type": "stream",
          "name": "stdout",
          "text": [
            "[15:09:25] WARNING: /workspace/src/objective/regression_obj.cu:152: reg:linear is now deprecated in favor of reg:squarederror.\n",
            "0.29689985392848106\n",
            "[15:09:40] WARNING: /workspace/src/objective/regression_obj.cu:152: reg:linear is now deprecated in favor of reg:squarederror.\n"
          ]
        },
        {
          "output_type": "stream",
          "name": "stderr",
          "text": [
            "/usr/local/lib/python3.7/dist-packages/xgboost/core.py:613: UserWarning: Use subset (sliced data) of np.ndarray is not recommended because it will generate extra copies and increase memory consumption\n",
            "  warnings.warn(\"Use subset (sliced data) of np.ndarray is not recommended \" +\n"
          ]
        },
        {
          "output_type": "stream",
          "name": "stdout",
          "text": [
            "0.29655598978284026\n",
            "[15:09:55] WARNING: /workspace/src/objective/regression_obj.cu:152: reg:linear is now deprecated in favor of reg:squarederror.\n"
          ]
        },
        {
          "output_type": "stream",
          "name": "stderr",
          "text": [
            "/usr/local/lib/python3.7/dist-packages/xgboost/core.py:613: UserWarning: Use subset (sliced data) of np.ndarray is not recommended because it will generate extra copies and increase memory consumption\n",
            "  warnings.warn(\"Use subset (sliced data) of np.ndarray is not recommended \" +\n"
          ]
        },
        {
          "output_type": "stream",
          "name": "stdout",
          "text": [
            "0.08047619769277192\n"
          ]
        }
      ]
    },
    {
      "cell_type": "code",
      "source": [
        "df.isna().sum()\n",
        "# no more missing values"
      ],
      "metadata": {
        "colab": {
          "base_uri": "https://localhost:8080/"
        },
        "id": "pitEqG2AEx7f",
        "outputId": "b1e1f58e-bbe7-4501-8af8-d545ddc5ec6c"
      },
      "execution_count": null,
      "outputs": [
        {
          "output_type": "execute_result",
          "data": {
            "text/plain": [
              "rider_id                0\n",
              "first_mile_distance     0\n",
              "last_mile_distance      0\n",
              "alloted_orders          0\n",
              "delivered_orders        0\n",
              "cancelled               0\n",
              "undelivered_orders      0\n",
              "lifetime_order_count    0\n",
              "session_time            0\n",
              "accept_allot_delta      0\n",
              "allot_order_delta       0\n",
              "weekday                 0\n",
              "order_month             0\n",
              "order_hour              0\n",
              "order_minute            0\n",
              "dtype: int64"
            ]
          },
          "metadata": {},
          "execution_count": 22
        }
      ]
    },
    {
      "cell_type": "code",
      "source": [
        "test_df.isna().sum()"
      ],
      "metadata": {
        "colab": {
          "base_uri": "https://localhost:8080/"
        },
        "id": "ZISsNbD4FF-O",
        "outputId": "3a23687d-c661-438f-d0c7-e66d5bf6227e"
      },
      "execution_count": null,
      "outputs": [
        {
          "output_type": "execute_result",
          "data": {
            "text/plain": [
              "rider_id                0\n",
              "first_mile_distance     0\n",
              "last_mile_distance      0\n",
              "alloted_orders          0\n",
              "delivered_orders        0\n",
              "undelivered_orders      0\n",
              "lifetime_order_count    0\n",
              "session_time            0\n",
              "accept_allot_delta      0\n",
              "allot_order_delta       0\n",
              "weekday                 0\n",
              "order_month             0\n",
              "order_hour              0\n",
              "order_minute            0\n",
              "dtype: int64"
            ]
          },
          "metadata": {},
          "execution_count": 23
        }
      ]
    },
    {
      "cell_type": "code",
      "source": [
        "cols = ['first_mile_distance', 'last_mile_distance', 'alloted_orders', 'delivered_orders', 'undelivered_orders',\n",
        "        'lifetime_order_count', 'session_time', 'accept_allot_delta', 'allot_order_delta']\n",
        "\n",
        "for col in cols:\n",
        "  x1 = dict(df.groupby('rider_id')[col].mean())\n",
        "  x2 = dict(df.groupby('rider_id')[col].median())\n",
        "  x3 = dict(df.groupby('rider_id')[col].min())\n",
        "  x4 = dict(df.groupby('rider_id')[col].max())\n",
        "  df[col + '_rider_mean'] = df['rider_id'].apply(lambda x: x1[x])\n",
        "  df[col + '_rider_median'] = df['rider_id'].apply(lambda x: x2[x])\n",
        "  df[col + '_rider_min'] = df['rider_id'].apply(lambda x: x3[x])\n",
        "  df[col + '_rider_max'] = df['rider_id'].apply(lambda x: x4[x])\n",
        "df.drop(columns='rider_id', inplace=True)\n",
        "\n",
        "for col in cols:\n",
        "  x1 = dict(test_df.groupby('rider_id')[col].mean())\n",
        "  x2 = dict(test_df.groupby('rider_id')[col].median())\n",
        "  x3 = dict(test_df.groupby('rider_id')[col].min())\n",
        "  x4 = dict(test_df.groupby('rider_id')[col].max())\n",
        "  test_df[col + '_rider_mean'] = test_df['rider_id'].apply(lambda x: x1[x])\n",
        "  test_df[col + '_rider_median'] = test_df['rider_id'].apply(lambda x: x2[x])\n",
        "  test_df[col + '_rider_min'] = test_df['rider_id'].apply(lambda x: x3[x])\n",
        "  test_df[col + '_rider_max'] = test_df['rider_id'].apply(lambda x: x4[x])\n",
        "test_df.drop(columns='rider_id', inplace=True)"
      ],
      "metadata": {
        "id": "DQsjMktbF4z7"
      },
      "execution_count": null,
      "outputs": []
    },
    {
      "cell_type": "code",
      "source": [
        "from sklearn.preprocessing import StandardScaler\n",
        "\n",
        "ss = StandardScaler()\n",
        "train_data = ss.fit_transform(df.drop(columns='cancelled'))\n",
        "train_target = np.array(df['cancelled'])\n",
        "test_data = ss.transform(test_df)"
      ],
      "metadata": {
        "id": "PkK0sfKvIEZe"
      },
      "execution_count": null,
      "outputs": []
    },
    {
      "cell_type": "code",
      "source": [
        "x_train, x_test, y_train, y_test = train_test_split(train_data, train_target, test_size=0.35)"
      ],
      "metadata": {
        "id": "mi7zj44RWa8r"
      },
      "execution_count": null,
      "outputs": []
    },
    {
      "cell_type": "code",
      "source": [
        "from xgboost import XGBClassifier\n",
        "from sklearn.ensemble import RandomForestClassifier, StackingClassifier, AdaBoostClassifier\n",
        "from sklearn.linear_model import LogisticRegression\n",
        "from sklearn.tree import DecisionTreeClassifier\n",
        "from sklearn.naive_bayes import GaussianNB\n",
        "from sklearn.svm import SVC\n",
        "from sklearn.utils import class_weight\n",
        "weights = class_weight.compute_sample_weight(class_weight='balanced', y=y_train)\n",
        "\n",
        "base_learner_1 = [\n",
        "                  ('rf1', XGBClassifier()),\n",
        "                  ('rf2', RandomForestClassifier()),\n",
        "                  ('rf3', DecisionTreeClassifier())\n",
        "]\n",
        "\n",
        "base_learner_2 = [\n",
        "                  ('rf1', AdaBoostClassifier()),\n",
        "                  ('rf2', GaussianNB()),\n",
        "]\n",
        "\n",
        "layer_two = StackingClassifier(estimators=base_learner_2, final_estimator=LogisticRegression())\n",
        "# StackingClassifier(estimators=base_learner_1, final_estimator=layer_two)\n",
        "\n",
        "model = StackingClassifier(estimators=base_learner_1, final_estimator=layer_two)\n",
        "model.fit(x_train, y_train, sample_weight=weights).score(x_test, y_test)"
      ],
      "metadata": {
        "colab": {
          "base_uri": "https://localhost:8080/"
        },
        "id": "iavcKnYJWrEV",
        "outputId": "7ac15a85-2922-4fb8-ae87-460d3f1cf5f2"
      },
      "execution_count": null,
      "outputs": [
        {
          "output_type": "execute_result",
          "data": {
            "text/plain": [
              "0.858679365079365"
            ]
          },
          "metadata": {},
          "execution_count": 27
        }
      ]
    },
    {
      "cell_type": "code",
      "source": [
        "from sklearn.inspection import permutation_importance\n",
        "\n",
        "r = permutation_importance(model, x_test, y_test, n_repeats=2)"
      ],
      "metadata": {
        "id": "JEkMs3U9puvk"
      },
      "execution_count": null,
      "outputs": []
    },
    {
      "cell_type": "code",
      "source": [
        "fi = dict(zip(df.drop(columns='cancelled').columns, r.importances_mean))"
      ],
      "metadata": {
        "id": "YWYIx_VPLz7I"
      },
      "execution_count": null,
      "outputs": []
    },
    {
      "cell_type": "code",
      "source": [
        "fi.pop(\"undelivered_orders\")"
      ],
      "metadata": {
        "colab": {
          "base_uri": "https://localhost:8080/"
        },
        "id": "JTejSIQ0hj2S",
        "outputId": "d7efc84b-c6aa-4ee4-ccf9-df78f11a12d9"
      },
      "execution_count": null,
      "outputs": [
        {
          "output_type": "execute_result",
          "data": {
            "text/plain": [
              "0.19659047619047615"
            ]
          },
          "metadata": {},
          "execution_count": 58
        }
      ]
    },
    {
      "cell_type": "code",
      "source": [
        "plt.figure(figsize=(25,10))\n",
        "sns.barplot(x=list(fi.keys()), y=list(fi.values()))\n",
        "plt.xticks(rotation=90)"
      ],
      "metadata": {
        "colab": {
          "base_uri": "https://localhost:8080/",
          "height": 735
        },
        "id": "tDZ_uTCLffAl",
        "outputId": "2e6ec82b-ae5c-409f-c0b6-4f27c03121ed"
      },
      "execution_count": null,
      "outputs": [
        {
          "output_type": "execute_result",
          "data": {
            "text/plain": [
              "(array([ 0,  1,  2,  3,  4,  5,  6,  7,  8,  9, 10, 11, 12, 13, 14, 15, 16,\n",
              "        17, 18, 19, 20, 21, 22, 23, 24, 25, 26, 27, 28, 29, 30, 31, 32, 33,\n",
              "        34, 35, 36, 37, 38, 39, 40, 41, 42, 43, 44, 45, 46, 47]),\n",
              " <a list of 48 Text major ticklabel objects>)"
            ]
          },
          "metadata": {},
          "execution_count": 59
        },
        {
          "output_type": "display_data",
          "data": {
            "image/png": "[encoded data removed]",
            "text/plain": [
              "<Figure size 1800x720 with 1 Axes>"
            ]
          },
          "metadata": {
            "needs_background": "light"
          }
        }
      ]
    },
    {
      "cell_type": "code",
      "source": [
        "cols = ['first_mile_distance', 'accept_allot_delta', 'last_mile_distance', 'alloted_orders', 'delivered_orders', 'lifetime_order_count', 'session_time', 'accept_allot_delta', 'allot_order_delta', 'order_hour','weekday']"
      ],
      "metadata": {
        "id": "n-gW-Ns8gbv0"
      },
      "execution_count": null,
      "outputs": []
    },
    {
      "cell_type": "code",
      "source": [
        "new_fi = {k:v for k,v in fi.items() if k in cols}"
      ],
      "metadata": {
        "id": "H1qr0SMDhLjM"
      },
      "execution_count": null,
      "outputs": []
    },
    {
      "cell_type": "code",
      "source": [
        "plt.figure(figsize=(25,10))\n",
        "sns.barplot(x=list(new_fi.keys()), y=list(new_fi.values()))\n",
        "plt.xticks(rotation=90, fontsize=24)\n",
        "plt.yticks(fontsize=24, )\n",
        "plt.ylabel(\"feature importance\", fontsize=30)\n",
        "plt.savefig('fig1',transparent=True, bbox_inches='tight')"
      ],
      "metadata": {
        "colab": {
          "base_uri": "https://localhost:8080/",
          "height": 673
        },
        "id": "cCwtUA1Nib3T",
        "outputId": "c28f5396-b765-4d3c-d739-1eaf638bd3c2"
      },
      "execution_count": null,
      "outputs": [
        {
          "output_type": "display_data",
          "data": {
            "image/png": "[encoded data removed]",
            "text/plain": [
              "<Figure size 1800x720 with 1 Axes>"
            ]
          },
          "metadata": {
            "needs_background": "light"
          }
        }
      ]
    },
    {
      "cell_type": "code",
      "source": [
        ""
      ],
      "metadata": {
        "id": "ciD8G5xBiqE6"
      },
      "execution_count": null,
      "outputs": []
    }
  ]
}
